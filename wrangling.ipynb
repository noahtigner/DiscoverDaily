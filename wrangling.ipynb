{
 "cells": [
  {
   "cell_type": "code",
   "execution_count": 1,
   "metadata": {},
   "outputs": [],
   "source": [
    "import pandas as pd\n",
    "import json\n",
    "\n",
    "import spotipy\n",
    "import spotipy.util as util \n",
    "from spotipy.oauth2 import SpotifyClientCredentials\n",
    "import spotipy.oauth2 as oauth2"
   ]
  },
  {
   "cell_type": "markdown",
   "metadata": {},
   "source": [
    "# Authorization with Spotify's API"
   ]
  },
  {
   "cell_type": "code",
   "execution_count": 2,
   "metadata": {},
   "outputs": [],
   "source": [
    "scope = 'user-library-read user-read-private user-read-playback-state user-modify-playback-state'\n",
    "username = '< your username >'\n",
    "client_id = '< your client id >'\n",
    "client_secret = '< your client secret >'\n",
    "redirect_uri = '< your redirect >'\n",
    "\n",
    "token = util.prompt_for_user_token(username, scope, client_id, client_secret, redirect_uri)\n",
    "sp = spotipy.Spotify(auth=token)\n",
    "\n",
    "user = sp.current_user()"
   ]
  },
  {
   "cell_type": "markdown",
   "metadata": {},
   "source": [
    "# Some utilities to make life easier"
   ]
  },
  {
   "cell_type": "code",
   "execution_count": null,
   "metadata": {},
   "outputs": [],
   "source": [
    "def print_json(to_print):\n",
    "    print(json.dumps(to_print, sort_keys=True, indent=4))"
   ]
  },
  {
   "cell_type": "code",
   "execution_count": null,
   "metadata": {},
   "outputs": [],
   "source": [
    "def get_playlist_tracks(user=None, playlist_id=None):\n",
    "    index = 0\n",
    "    playlist_tracks = []\n",
    "    playlist_length = sp.user_playlist_tracks(user=user, playlist_id=playlist_id, limit=1)['total']\n",
    "    \n",
    "    while index < playlist_length:\n",
    "        batch = sp.user_playlist_tracks(user=user, playlist_id=playlist_id, offset=index)\n",
    "    \n",
    "        for track in batch['items']:\n",
    "            \n",
    "            features = sp.audio_features(track['track']['id'])[0]\n",
    "        \n",
    "            t = {\n",
    "                # MetaData\n",
    "                'id': track['track']['id'],\n",
    "                'name': track['track']['name'],\n",
    "                'artist(s)': [artist['name'] for artist in track['track']['artists']],\n",
    "                'popularity': track['track']['popularity'],\n",
    "                'liked': 1,\n",
    "\n",
    "                # Audio Features\n",
    "                'danceability': features['danceability'],\n",
    "                'energy': features['energy'],\n",
    "                'key': features['key'],\n",
    "                'loudness': features['loudness'],\n",
    "                'mode': features['mode'],\n",
    "                'speechiness': features['speechiness'],\n",
    "                'acousticness': features['acousticness'],\n",
    "                'instrumentalness': features['instrumentalness'],\n",
    "                'liveness': features['liveness'],\n",
    "                'valence': features['valence'],\n",
    "                'tempo': features['tempo'],\n",
    "                'duration_ms': features['duration_ms'],\n",
    "                'time_signature': features['time_signature']\n",
    "            }\n",
    "\n",
    "            playlist_tracks.append(t)\n",
    "        \n",
    "        index += 100\n",
    "        \n",
    "    return playlist_tracks"
   ]
  },
  {
   "cell_type": "markdown",
   "metadata": {},
   "source": [
    "# Gather 'good' and 'bad' songs"
   ]
  },
  {
   "cell_type": "markdown",
   "metadata": {},
   "source": [
    "#### Use the user's saved tracks as the 'good' playlist"
   ]
  },
  {
   "cell_type": "code",
   "execution_count": null,
   "metadata": {},
   "outputs": [],
   "source": [
    "index = 0\n",
    "saved_tracks = []\n",
    "saved_length = sp.current_user_saved_tracks(limit=1)['total']\n",
    "\n",
    "while index < saved_length:\n",
    "    batch = sp.current_user_saved_tracks(offset=index)\n",
    "    \n",
    "    for track in batch['items']:\n",
    "        \n",
    "        features = sp.audio_features(track['track']['id'])[0]\n",
    "        \n",
    "        t = {\n",
    "            # MetaData\n",
    "            'id': track['track']['id'],\n",
    "            'name': track['track']['name'],\n",
    "            'artist(s)': [artist['name'] for artist in track['track']['artists']],\n",
    "            'popularity': track['track']['popularity'],\n",
    "            'liked': 1,\n",
    "            \n",
    "            # Audio Features\n",
    "            'danceability': features['danceability'],\n",
    "            'energy': features['energy'],\n",
    "            'key': features['key'],\n",
    "            'loudness': features['loudness'],\n",
    "            'mode': features['mode'],\n",
    "            'speechiness': features['speechiness'],\n",
    "            'acousticness': features['acousticness'],\n",
    "            'instrumentalness': features['instrumentalness'],\n",
    "            'liveness': features['liveness'],\n",
    "            'valence': features['valence'],\n",
    "            'tempo': features['tempo'],\n",
    "            'duration_ms': features['duration_ms'],\n",
    "            'time_signature': features['time_signature']\n",
    "        }\n",
    "    \n",
    "        saved_tracks.append(t)\n",
    "\n",
    "    index += 20\n",
    "    \n",
    "assert len(saved_tracks) == saved_length"
   ]
  },
  {
   "cell_type": "markdown",
   "metadata": {},
   "source": [
    "#### Using a playlist named 'test_ml_bad' as our 'bad' playlist\n",
    "\n",
    "This playlist needs to be broad, so I included 'hick-hop', Boy Bands, and all 42 Kidz Bop albums"
   ]
  },
  {
   "cell_type": "code",
   "execution_count": null,
   "metadata": {},
   "outputs": [],
   "source": [
    "disliked_tracks = get_playlist_tracks(user=user['id'], playlist_id='6sd1N50ZULzrgoWX0ViDwC')\n",
    "\n",
    "assert len(disliked_tracks) > 500"
   ]
  },
  {
   "cell_type": "markdown",
   "metadata": {},
   "source": [
    "#### Create a datafram of these playlists"
   ]
  },
  {
   "cell_type": "code",
   "execution_count": null,
   "metadata": {},
   "outputs": [],
   "source": [
    "all_tracks = []\n",
    "\n",
    "all_tracks.extend(saved_tracks)\n",
    "all_tracks.extend(disliked_tracks)\n",
    "\n",
    "df = pd.DataFrame(all_tracks)\n",
    "df = df.set_index('id')"
   ]
  },
  {
   "cell_type": "code",
   "execution_count": null,
   "metadata": {},
   "outputs": [],
   "source": [
    "df.head()"
   ]
  },
  {
   "cell_type": "code",
   "execution_count": null,
   "metadata": {},
   "outputs": [],
   "source": [
    "df.to_csv(r'tracks.csv')"
   ]
  }
 ],
 "metadata": {
  "kernelspec": {
   "display_name": "Python 3",
   "language": "python",
   "name": "python3"
  },
  "language_info": {
   "codemirror_mode": {
    "name": "ipython",
    "version": 3
   },
   "file_extension": ".py",
   "mimetype": "text/x-python",
   "name": "python",
   "nbconvert_exporter": "python",
   "pygments_lexer": "ipython3",
   "version": "3.7.1"
  }
 },
 "nbformat": 4,
 "nbformat_minor": 2
}
